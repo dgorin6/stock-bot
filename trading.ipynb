{
 "cells": [
  {
   "cell_type": "code",
   "execution_count": 2,
   "id": "d9f385a8",
   "metadata": {},
   "outputs": [
    {
     "name": "stdout",
     "output_type": "stream",
     "text": [
      "Collecting robin_stocks\n",
      "  Downloading robin_stocks-2.1.0-py3-none-any.whl (131 kB)\n",
      "Collecting python-dotenv\n",
      "  Downloading python_dotenv-0.21.0-py3-none-any.whl (18 kB)\n",
      "Collecting pyotp\n",
      "  Downloading pyotp-2.6.0-py2.py3-none-any.whl (11 kB)\n",
      "Requirement already satisfied: requests in c:\\users\\snivy\\appdata\\local\\programs\\python\\python39\\lib\\site-packages (from robin_stocks) (2.28.1)\n",
      "Requirement already satisfied: cryptography in c:\\users\\snivy\\appdata\\local\\programs\\python\\python39\\lib\\site-packages (from robin_stocks) (37.0.4)\n",
      "Requirement already satisfied: cffi>=1.12 in c:\\users\\snivy\\appdata\\local\\programs\\python\\python39\\lib\\site-packages (from cryptography->robin_stocks) (1.15.1)\n",
      "Requirement already satisfied: pycparser in c:\\users\\snivy\\appdata\\local\\programs\\python\\python39\\lib\\site-packages (from cffi>=1.12->cryptography->robin_stocks) (2.21)\n",
      "Requirement already satisfied: charset-normalizer<3,>=2 in c:\\users\\snivy\\appdata\\local\\programs\\python\\python39\\lib\\site-packages (from requests->robin_stocks) (2.1.0)\n",
      "Requirement already satisfied: certifi>=2017.4.17 in c:\\users\\snivy\\appdata\\local\\programs\\python\\python39\\lib\\site-packages (from requests->robin_stocks) (2022.6.15)\n",
      "Requirement already satisfied: urllib3<1.27,>=1.21.1 in c:\\users\\snivy\\appdata\\local\\programs\\python\\python39\\lib\\site-packages (from requests->robin_stocks) (1.26.11)\n",
      "Requirement already satisfied: idna<4,>=2.5 in c:\\users\\snivy\\appdata\\local\\programs\\python\\python39\\lib\\site-packages (from requests->robin_stocks) (3.3)\n",
      "Installing collected packages: python-dotenv, pyotp, robin-stocks\n",
      "Successfully installed pyotp-2.6.0 python-dotenv-0.21.0 robin-stocks-2.1.0\n"
     ]
    },
    {
     "name": "stderr",
     "output_type": "stream",
     "text": [
      "WARNING: You are using pip version 21.2.3; however, version 22.2.2 is available.\n",
      "You should consider upgrading via the 'C:\\Users\\snivy\\AppData\\Local\\Programs\\Python\\Python39\\python.exe -m pip install --upgrade pip' command.\n"
     ]
    }
   ],
   "source": [
    "#installations\n",
    "!pip install robin_stocks"
   ]
  },
  {
   "cell_type": "code",
   "execution_count": 3,
   "id": "979a88b7",
   "metadata": {},
   "outputs": [],
   "source": [
    "from robin_stocks import *\n",
    "import robin_stocks.robinhood as rh\n",
    "import pyotp"
   ]
  },
  {
   "cell_type": "code",
   "execution_count": null,
   "id": "5292cd46",
   "metadata": {},
   "outputs": [],
   "source": [
    "#get code\n",
    "totp  = pyotp.TOTP(\"ENTERCODEHERE\").now()\n",
    "print(\"Current OTP:\", totp)"
   ]
  },
  {
   "cell_type": "code",
   "execution_count": null,
   "id": "f0e640fd",
   "metadata": {},
   "outputs": [],
   "source": [
    "#login\n",
    "totp  = pyotp.TOTP(\"ENTERCODEHERE\").now()\n",
    "login = rh.login('email@datadrivenmoney.com','Password', mfa_code=totp)"
   ]
  },
  {
   "cell_type": "code",
   "execution_count": null,
   "id": "bc965369",
   "metadata": {},
   "outputs": [],
   "source": [
    "#rh.order_buy_market('NOK',2) sample buy\n",
    "portfolio = rh.build_holdings()\n",
    "for key,value in portfolio.items():\n",
    "    print(key,value)"
   ]
  }
 ],
 "metadata": {
  "kernelspec": {
   "display_name": "Python 3 (ipykernel)",
   "language": "python",
   "name": "python3"
  },
  "language_info": {
   "codemirror_mode": {
    "name": "ipython",
    "version": 3
   },
   "file_extension": ".py",
   "mimetype": "text/x-python",
   "name": "python",
   "nbconvert_exporter": "python",
   "pygments_lexer": "ipython3",
   "version": "3.9.7"
  }
 },
 "nbformat": 4,
 "nbformat_minor": 5
}
